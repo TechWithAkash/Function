{
 "cells": [
  {
   "cell_type": "markdown",
   "id": "2029901b-c3fc-40c3-9059-1820068bb455",
   "metadata": {},
   "source": [
    "Q1. Which keyword is used to create a function? Create a function to return a list of odd numbers in the\n",
    "range of 1 to 25."
   ]
  },
  {
   "cell_type": "markdown",
   "id": "760827ce-7f7a-4d63-9733-80be87eb5030",
   "metadata": {},
   "source": [
    "==> we using \" def \" keyword to creating a function in python"
   ]
  },
  {
   "cell_type": "code",
   "execution_count": 34,
   "id": "d26752ab-a66e-4d43-8586-e0b0edf98b7b",
   "metadata": {},
   "outputs": [],
   "source": [
    "def odd_number(numbers):\n",
    "    for i in numbers :\n",
    "          if i%2!=0 :\n",
    "                print(i)\n",
    "  \n",
    "            "
   ]
  },
  {
   "cell_type": "markdown",
   "id": "2fab9b4d-f822-43be-a344-0ee93c3b981e",
   "metadata": {},
   "source": [
    "odd_number([1,2,3,4,5,6,7,8,9,10,11,12,13,14,15,16,17,18,19,20,21,22,23,24,25])"
   ]
  },
  {
   "cell_type": "markdown",
   "id": "da5db100-c947-4880-947e-c531bf26c9f1",
   "metadata": {},
   "source": [
    "Q2. Why *args and **kwargs is used in some functions? Create a function each for *args and **kwargs\n",
    "to demonstrate their use."
   ]
  },
  {
   "cell_type": "markdown",
   "id": "4ed9e258-b67a-44cc-beb6-66431facb7ad",
   "metadata": {},
   "source": [
    "==>>In Python, *args and **kwargs are used to pass a variable number of arguments to a function.\n",
    "\n",
    "1) *args (Non-keyworded Variable-length Arguments):\n",
    ". The asterisk () before the parameter name denotes that it will collect any number of positional arguments into a tuple.\n",
    "\n",
    "2)**kwargs (Keyworded Variable-length Arguments):\n",
    " The double asterisks () before the parameter name denote that it will collect any number of keyword arguments into a dictionary."
   ]
  },
  {
   "cell_type": "code",
   "execution_count": 36,
   "id": "6ced528c-3a18-4349-888a-23182b1c6bb3",
   "metadata": {},
   "outputs": [],
   "source": [
    "#Example of *args\n",
    "\n",
    "def test (*args):\n",
    "    return args"
   ]
  },
  {
   "cell_type": "code",
   "execution_count": 37,
   "id": "428e9876-afa8-496b-93f6-b1b481856222",
   "metadata": {},
   "outputs": [
    {
     "data": {
      "text/plain": [
       "(23, 34, 35, 'Pwskills')"
      ]
     },
     "execution_count": 37,
     "metadata": {},
     "output_type": "execute_result"
    }
   ],
   "source": [
    "test(23,34,35,\"Pwskills\")"
   ]
  },
  {
   "cell_type": "code",
   "execution_count": 38,
   "id": "fd80ba22-a2d6-414f-a51a-5568b1ee3256",
   "metadata": {},
   "outputs": [],
   "source": [
    "#Example of **kwargs\n",
    "\n",
    "def test2(**kwargs):\n",
    "    return kwargs"
   ]
  },
  {
   "cell_type": "code",
   "execution_count": 47,
   "id": "c50fe3ac-7628-4de3-9d5e-bff3a99cda39",
   "metadata": {},
   "outputs": [
    {
     "data": {
      "text/plain": [
       "dict"
      ]
     },
     "execution_count": 47,
     "metadata": {},
     "output_type": "execute_result"
    }
   ],
   "source": [
    "type(test2)"
   ]
  },
  {
   "cell_type": "code",
   "execution_count": null,
   "id": "95d91d63-c29e-4942-b668-2703d6d07a61",
   "metadata": {},
   "outputs": [],
   "source": []
  },
  {
   "cell_type": "markdown",
   "id": "52b463b0-983c-4bb7-bd0e-3bc607214ddc",
   "metadata": {},
   "source": [
    "Q3. What is an iterator in python? Name the method used to initialise the iterator object and the method\n",
    "used for iteration. Use these methods to print the first five elements of the given list [2, 4, 6, 8, 10, 12, 14,\n",
    "16, 18, 20]."
   ]
  },
  {
   "cell_type": "markdown",
   "id": "e0eba4fa-6dfa-4c4e-b871-4db5f922f56e",
   "metadata": {},
   "source": [
    "==> In Python, an iterator is an object that allows iteration over a container or a sequence of elements. It provides a way to access elements one at a time without needing to know the internal structure of the container.\n",
    "\n",
    "To initialize an iterator object, you can use the iter() function. \n",
    "To iterate over the elements of an iterator, you can use the next() function."
   ]
  },
  {
   "cell_type": "code",
   "execution_count": 2,
   "id": "4a96a567-bc71-4e06-aa16-4ddb768b02e8",
   "metadata": {},
   "outputs": [
    {
     "name": "stdout",
     "output_type": "stream",
     "text": [
      "2\n",
      "4\n",
      "6\n",
      "8\n",
      "10\n"
     ]
    }
   ],
   "source": [
    "my_list = [2, 4, 6, 8, 10, 12, 14, 16, 18, 20]\n",
    "\n",
    "\n",
    "my_iterator = iter(my_list)\n",
    "\n",
    "\n",
    "for _ in range(5):\n",
    "    element = next(my_iterator)\n",
    "    print(element)"
   ]
  },
  {
   "cell_type": "markdown",
   "id": "c69fea28-e3a9-44b5-84d2-137870690f85",
   "metadata": {},
   "source": [
    "Q4. What is a generator function in python? Why yield keyword is used? Give an example of a generator function"
   ]
  },
  {
   "cell_type": "markdown",
   "id": "73c6fa8e-5d65-4601-80d6-07ecf07cf1b1",
   "metadata": {},
   "source": [
    "==>In Python, a generator function is a special type of function that generates a sequence of values using the yield keyword  Instead of returning a single value and terminating like a regular function, a generator function can pause its execution and yield a value multiple times, creating an iterator.\n",
    "\n",
    "** Why yield keyword is ued:=\n",
    "   \n",
    "    The yield keyword is used in a generator function to indicate the points at which the generator should yield a value. When the yield statement is encountered, the current state of the function is saved, and the yielded value is returned. The function is then paused, and the next time the generator is iterated over, it resumes from where it left off, continuing its execution until the next yield statement is reached.\n",
    "    \n",
    "    "
   ]
  },
  {
   "cell_type": "code",
   "execution_count": 1,
   "id": "45ba7384-c83e-45f0-8007-ed99a41d6446",
   "metadata": {},
   "outputs": [],
   "source": [
    "#Example of generator function\n",
    "def even_no(no):\n",
    "        for i in no:\n",
    "            if i % 2 == 0:\n",
    "                yield i"
   ]
  },
  {
   "cell_type": "code",
   "execution_count": 2,
   "id": "3e77b09f-ef3c-48ef-8e80-33ebeb2ece32",
   "metadata": {},
   "outputs": [
    {
     "data": {
      "text/plain": [
       "<generator object even_no at 0x7ff1a4c654d0>"
      ]
     },
     "execution_count": 2,
     "metadata": {},
     "output_type": "execute_result"
    }
   ],
   "source": [
    "even_no([1,2,3,4,54,6,])"
   ]
  },
  {
   "cell_type": "code",
   "execution_count": null,
   "id": "835856a8-c8d0-44f7-968f-0de76915d85f",
   "metadata": {},
   "outputs": [],
   "source": []
  },
  {
   "cell_type": "markdown",
   "id": "1c61bf12-9820-4c1f-910c-4234a7d3737c",
   "metadata": {},
   "source": [
    "Q5. Create a generator function for prime numbers less than 1000. Use the next() method to print the\n",
    "first 20 prime numbers."
   ]
  },
  {
   "cell_type": "code",
   "execution_count": 20,
   "id": "30e330c0-9b1b-4c97-8ee7-571888095eab",
   "metadata": {},
   "outputs": [],
   "source": [
    "def prime_no():\n",
    "    primes =[]\n",
    "    num = 2\n",
    "    while True:\n",
    "        is_prime =True\n",
    "        \n",
    "        for i in primes :\n",
    "            if num % i == 0:\n",
    "                is_prime = False\n",
    "                break\n",
    "                \n",
    "        if is_prime:\n",
    "            primes.append(num)\n",
    "            yield num\n",
    "        num += 1\n",
    "        \n",
    "        if num >= 1000:\n",
    "            break"
   ]
  },
  {
   "cell_type": "code",
   "execution_count": 22,
   "id": "4270e462-3275-4d2f-b3a4-79f3d386003d",
   "metadata": {},
   "outputs": [
    {
     "name": "stdout",
     "output_type": "stream",
     "text": [
      "2\n",
      "3\n",
      "5\n",
      "7\n",
      "11\n",
      "13\n",
      "17\n",
      "19\n",
      "23\n",
      "29\n",
      "31\n",
      "37\n",
      "41\n",
      "43\n",
      "47\n",
      "53\n",
      "59\n",
      "61\n",
      "67\n",
      "71\n"
     ]
    }
   ],
   "source": [
    "generator = prime_no()\n",
    "for i in range(20):\n",
    "    prime = next(generator)\n",
    "    print(prime)"
   ]
  },
  {
   "cell_type": "code",
   "execution_count": null,
   "id": "e1519f47-79b4-4122-a60c-4c8f378a8800",
   "metadata": {},
   "outputs": [],
   "source": []
  },
  {
   "cell_type": "markdown",
   "id": "3f93b459-2393-4e4b-87c5-cc8dc8c1be14",
   "metadata": {},
   "source": [
    "Q6. Write a python program to print the first 10 Fibonacci numbers using a while loop."
   ]
  },
  {
   "cell_type": "code",
   "execution_count": 28,
   "id": "930994cf-74e3-4c1c-bd50-ff6664d700e0",
   "metadata": {},
   "outputs": [
    {
     "name": "stdin",
     "output_type": "stream",
     "text": [
      "How many terms?  10\n"
     ]
    },
    {
     "name": "stdout",
     "output_type": "stream",
     "text": [
      "Fibonacci sequence:\n",
      "0\n",
      "1\n",
      "1\n",
      "2\n",
      "3\n",
      "5\n",
      "8\n",
      "13\n",
      "21\n",
      "34\n"
     ]
    }
   ],
   "source": [
    "\n",
    "nterms = int(input(\"How many terms? \"))\n",
    "\n",
    "n1, n2 = 0, 1\n",
    "count = 0\n",
    "\n",
    "if nterms <= 0:\n",
    "elif nterms == 1:\n",
    "   print(\"Fibonacci sequence upto\",nterms,\":\")\n",
    "   print(n1)\n",
    "else:\n",
    "   print(\"Fibonacci sequence:\")\n",
    "   while count < nterms:\n",
    "       print(n1)\n",
    "       nth = n1 + n2\n",
    "       n1 = n2\n",
    "       n2 = nth\n",
    "       count += 1"
   ]
  },
  {
   "cell_type": "code",
   "execution_count": null,
   "id": "88f29491-bf09-4b43-9044-19eddd6a2d46",
   "metadata": {},
   "outputs": [],
   "source": []
  },
  {
   "cell_type": "markdown",
   "id": "91f8a4a6-6925-4cf5-b047-1f1441533818",
   "metadata": {},
   "source": [
    "Q7. Write a List Comprehension to iterate through the given string: ‘pwskills’.\n",
    "Expected output: ['p', 'w', 's', 'k', 'i', 'l', 'l', 's']"
   ]
  },
  {
   "cell_type": "code",
   "execution_count": 30,
   "id": "fe25a37f-bb4b-45ec-8179-d449d9a492ed",
   "metadata": {},
   "outputs": [
    {
     "name": "stdout",
     "output_type": "stream",
     "text": [
      "['p', 'w', 's', 'k', 'i', 'l', 'l', 's']\n"
     ]
    }
   ],
   "source": [
    "string = 'pwskills'\n",
    "result = [char for char in string if char in 'pwskills']\n",
    "print(result)\n"
   ]
  },
  {
   "cell_type": "code",
   "execution_count": null,
   "id": "c14a743b-179c-48f2-ae4b-5b3c5cf8ee21",
   "metadata": {},
   "outputs": [],
   "source": []
  },
  {
   "cell_type": "markdown",
   "id": "8ded238c-611b-406c-b5b3-2e5bfb4fdab7",
   "metadata": {},
   "source": [
    "Q8. Write a python program to check whether a given number is Palindrome or not using a while loop."
   ]
  },
  {
   "cell_type": "code",
   "execution_count": 31,
   "id": "d4189b49-38a0-4eb5-9a40-05d54f8e1c2f",
   "metadata": {},
   "outputs": [
    {
     "name": "stdin",
     "output_type": "stream",
     "text": [
      "Enter a number:  56\n"
     ]
    },
    {
     "name": "stdout",
     "output_type": "stream",
     "text": [
      "56 is not a palindrome.\n"
     ]
    }
   ],
   "source": [
    "num = int(input(\"Enter a number: \"))\n",
    "temp = num\n",
    "reverse_num = 0\n",
    "\n",
    "while temp > 0:\n",
    "    digit = temp % 10\n",
    "    reverse_num = reverse_num * 10 + digit\n",
    "    temp //= 10\n",
    "\n",
    "if num == reverse_num:\n",
    "    print(num, \"is a palindrome.\")\n",
    "else:\n",
    "    print(num, \"is not a palindrome.\")\n"
   ]
  },
  {
   "cell_type": "code",
   "execution_count": null,
   "id": "9acb951a-90e0-4cda-9281-331d5668ddf9",
   "metadata": {},
   "outputs": [],
   "source": []
  },
  {
   "cell_type": "markdown",
   "id": "2ad11425-8cc5-464a-8282-f89b0defcb64",
   "metadata": {},
   "source": [
    "Q9. Write a code to print odd numbers from 1 to 100 using list comprehension.\n",
    "Note: Use a list comprehension to create a list from 1 to 100 and use another List comprehension to filter\n",
    "out odd numbers."
   ]
  },
  {
   "cell_type": "code",
   "execution_count": 32,
   "id": "0c0d0cd3-8236-4bf0-af2f-e133acd07670",
   "metadata": {},
   "outputs": [
    {
     "name": "stdout",
     "output_type": "stream",
     "text": [
      "[1, 3, 5, 7, 9, 11, 13, 15, 17, 19, 21, 23, 25, 27, 29, 31, 33, 35, 37, 39, 41, 43, 45, 47, 49, 51, 53, 55, 57, 59, 61, 63, 65, 67, 69, 71, 73, 75, 77, 79, 81, 83, 85, 87, 89, 91, 93, 95, 97, 99]\n"
     ]
    }
   ],
   "source": [
    "odd_numbers = [num for num in range(1, 101) if num % 2 != 0]\n",
    "print(odd_numbers)\n"
   ]
  },
  {
   "cell_type": "code",
   "execution_count": null,
   "id": "ff4b6626-9a14-44fe-ae00-d77ce3d8bc13",
   "metadata": {},
   "outputs": [],
   "source": []
  }
 ],
 "metadata": {
  "kernelspec": {
   "display_name": "Python 3 (ipykernel)",
   "language": "python",
   "name": "python3"
  },
  "language_info": {
   "codemirror_mode": {
    "name": "ipython",
    "version": 3
   },
   "file_extension": ".py",
   "mimetype": "text/x-python",
   "name": "python",
   "nbconvert_exporter": "python",
   "pygments_lexer": "ipython3",
   "version": "3.10.8"
  }
 },
 "nbformat": 4,
 "nbformat_minor": 5
}
